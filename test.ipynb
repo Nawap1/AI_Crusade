{
 "cells": [
  {
   "cell_type": "code",
   "execution_count": 3,
   "metadata": {},
   "outputs": [
    {
     "name": "stdout",
     "output_type": "stream",
     "text": [
      "Choosing the \"best\" French cheese can be subjective and depends on personal taste, as France offers a wide variety of exceptional cheeses. However, some French cheeses are world-renowned for their unique flavors and qualities. Here are a few notable ones:\n",
      "\n",
      "1. **Camembert de Normandie**: A soft, creamy cheese from the Normandy region, known for its rich, buttery flavor and edible rind.\n",
      "\n",
      "2. **Brie de Meaux**: Often referred to as the \"King of Cheeses,\" this soft cheese from the Brie region has a smooth, velvety texture and a mild, slightly nutty flavor.\n",
      "\n",
      "3. **Roquefort**: A blue cheese made from sheep's milk, known for its strong, tangy flavor and distinctive blue veins.\n",
      "\n",
      "4. **Comté**: A hard cheese from the Jura region, known for its complex, nutty flavor and firm texture.\n",
      "\n",
      "5. **Reblochon**: A soft washed-rind and smear-ripened cheese from the Alps, known for its creamy texture and mild, nutty flavor.\n",
      "\n",
      "6. **Époisses**: A pungent, soft cheese from Burgundy, known for its strong aroma and rich, creamy flavor.\n",
      "\n",
      "7. **Munster**: A soft, washed-rind cheese from the Vosges region, known for its strong aroma and mild, slightly tangy flavor.\n",
      "\n",
      "Each of these cheeses has its own unique characteristics and is beloved for different reasons. The \"best\" one ultimately depends on your personal preferences.\n"
     ]
    }
   ],
   "source": [
    "import os\n",
    "from mistralai import Mistral\n",
    "from dotenv import load_dotenv\n",
    "\n",
    "load_dotenv()\n",
    "api_key = os.environ[\"MISTRAL_API_KEY\"]\n",
    "model = \"mistral-large-latest\"\n",
    "\n",
    "client = Mistral(api_key=api_key)\n",
    "\n",
    "chat_response = client.chat.complete(\n",
    "    model = model,\n",
    "    messages = [\n",
    "        {\n",
    "            \"role\": \"user\",\n",
    "            \"content\": \"What is the best French cheese?\",\n",
    "        },\n",
    "    ]\n",
    ")\n",
    "\n",
    "print(chat_response.choices[0].message.content)"
   ]
  },
  {
   "cell_type": "code",
   "execution_count": null,
   "metadata": {},
   "outputs": [
    {
     "name": "stdout",
     "output_type": "stream",
     "text": [
      "Set Context Response: {'message': 'Context set successfully.'}\n",
      "Reading Test Response: {'feedback': 'Determining the \"best\" French cheese can be quite subjective, as it depends on personal taste preferences. While Camembert is indeed a famous and delicious French cheese, there are many other highly regarded French cheeses that could also be considered among the best. Here are a few notable ones:\\n\\n1. **Brie**: Known for its creamy texture and mild flavor, Brie is another popular French cheese.\\n2. **Roquefort**: A blue cheese made from sheep milk, known for its strong flavor and distinctive veining.\\n3. **Comté**: A hard cheese made from unpasteurized cow\\'s milk, with a complex flavor profile.\\n4. **Reblochon**: A soft washed-rind and smear-ripened cheese from the Alps.\\n5. **Époisses**: A pungent, washed-rind cheese with a strong aroma and rich flavor.\\n\\nEach of these cheeses has its own unique characteristics and appeal, so the \"best\" one really depends on individual preferences.'}\n"
     ]
    }
   ],
   "source": [
    "import requests\n",
    "\n",
    "base_url = \"http://127.0.0.1:8000\"\n",
    "\n",
    "# Set context\n",
    "context_payload = {\"context\": \"French cheeses are highly regarded for their variety and quality.\"}\n",
    "response = requests.post(f\"{base_url}/set_context\", json=context_payload)\n",
    "print(\"Set Context Response:\", response.json())\n",
    "\n",
    "params = {\n",
    "    \"question\": \"What is the best French cheese?\",\n",
    "    \"answer\": \"Camembert\"\n",
    "}\n",
    "response = requests.get(f\"{base_url}/reading_test\", params=params)\n",
    "print(\"Reading Test Response:\", response.json())\n"
   ]
  },
  {
   "cell_type": "code",
   "execution_count": 3,
   "metadata": {},
   "outputs": [
    {
     "name": "stdout",
     "output_type": "stream",
     "text": [
      "Set Context Response: {'message': 'Context set successfully.'}\n",
      "Set Audio Response: {'message': 'Context set successfully.'}\n",
      "Reading Test Response: {'feedback': 'Your answer is correct. Here\\'s a slight modification to make it flow more naturally:\\n\\n\"The IELTS test evaluates proficiency in speaking, writing, listening, and reading skills.\"\\n\\nThis version uses \"proficiency in\" to connect the sentence more smoothly. Well done!'}\n",
      "Writing Test Response: {'feedback': \"That's a concise and accurate summary, but let's expand on it to provide a more comprehensive overview. Here's a revised version with more details:\\n\\n---\\n\\n**Title: The Impact of Technology on Education**\\n\\n**Answer:**\\n\\nTechnology has significantly transformed education, bringing about both beneficial changes and new challenges.\\n\\n**Benefits:**\\n\\n1. **Accessibility and Inclusivity**: Technology has made learning resources more accessible to everyone, regardless of geographical location or physical limitations. Online platforms, digital libraries, and assistive technologies have greatly improved inclusivity in education.\\n\\n2. **Personalized Learning**: Adaptive learning technologies and data-driven insights enable educators to tailor learning experiences to individual students' needs, paces, and learning styles.\\n\\n3. **Engagement and Interactivity**: Multimedia content, interactive simulations, and gamification make learning more engaging and effective.\\n\\n4. **Collaboration**: Digital tools facilitate collaboration among students, as well as between students and teachers, in real-time and across distances.\\n\\n5. **Administrative Efficiency**: Technology streamlines administrative tasks, such as grading, record-keeping, and communication with parents and students.\\n\\n**Challenges:**\\n\\n1. **Distraction**: While technology can enhance learning, it can also be a source of distraction. Students may struggle with staying focused due to social media, games, and other digital distractions.\\n\\n2. **Digital Divide**: Not all students have equal access to technology, internet connectivity, or digital literacy skills. This disparity, known as the digital divide, can exacerbate educational inequalities.\\n\\n3. **Screen Time and Health**: Excessive screen time can lead to health issues, including eye strain, poor posture, and reduced physical activity.\\n\\n4. **Privacy and Security**: The use of technology in education raises concerns about data privacy and security, particularly in regards to student information and learning analytics.\\n\\n5. **Teacher Training and Support**: To effectively integrate technology into teaching, educators need ongoing professional development and support, which can be resource-intensive.\\n\\nIn conclusion, technology's impact on education is complex and multifaceted, offering numerous benefits while also presenting challenges that educators, policymakers, and society at large must address.\\n\\n---\"}\n",
      "Listening Test Response: {'feedback': 'Based on the context and your answer, here\\'s some feedback:\\n\\n**What was done well:**\\n- You provided a concise and specific topic.\\n- The topic you identified is a coherent and plausible subject for an IELTS listening module.\\n\\n**Areas for improvement:**\\n- Without more context, it\\'s impossible to verify the accuracy of your answer. Ensure that your response is directly drawn from the audio content.\\n- Make sure to use key words from the audio to support your answer. For example, you might have heard phrases like \"melting sea ice,\" \"habitat loss,\" or \"decreasing polar bear populations\" that led you to this conclusion.\\n\\n**Potential pitfalls:**\\n- Avoid guessing the topic based on general knowledge or assumptions. Always base your answer on what you hear in the audio.\\n- Be careful not to paraphrase too much or change the meaning of what you heard.\\n\\n**Additional tips:**\\n- Practice listening for key words and main ideas.\\n- Focus on understanding the overall context and not just individual words.\\n- Regularly practice with sample IELTS listening modules to improve your skills.'}\n"
     ]
    }
   ],
   "source": [
    "import requests\n",
    "\n",
    "base_url = \"http://127.0.0.1:8000\"\n",
    "\n",
    "# 1. Set context\n",
    "response = requests.post(\n",
    "    f\"{base_url}/set_context\",\n",
    "    json={\"context\": \"The IELTS test evaluates language proficiency through reading, writing, speaking, and listening modules.\"},\n",
    ")\n",
    "print(\"Set Context Response:\", response.json())\n",
    "\n",
    "# 2. Set audio transcript\n",
    "response = requests.post(\n",
    "    f\"{base_url}/set_audio\",\n",
    "    json={\"context\": \"Audio transcript: The speaker discussed the impact of climate change on polar bears.\"},\n",
    ")\n",
    "print(\"Set Audio Response:\", response.json())\n",
    "\n",
    "# 3. Test reading_test\n",
    "response = requests.get(\n",
    "    f\"{base_url}/reading_test\",\n",
    "    params={\n",
    "        \"question\": \"What does the IELTS test evaluate?\",\n",
    "        \"answer\": \"It evaluates speaking, writing, listening, and reading skills.\",\n",
    "    },\n",
    ")\n",
    "print(\"Reading Test Response:\", response.json())\n",
    "\n",
    "# 4. Test writing_test\n",
    "response = requests.post(\n",
    "    f\"{base_url}/writing_test\",\n",
    "    params={\n",
    "        \"title\": \"The Impact of Technology on Education\",\n",
    "        \"answer\": \"Technology has revolutionized education by making learning resources accessible to everyone, but it also poses challenges such as distraction and digital divide.\",\n",
    "    },\n",
    ")\n",
    "print(\"Writing Test Response:\", response.json())\n",
    "\n",
    "# 5. Test listening_test\n",
    "response = requests.get(\n",
    "    f\"{base_url}/listening_test\",\n",
    "    params={\n",
    "        \"question\": \"What was the topic of the audio?\",\n",
    "        \"answer\": \"The impact of climate change on polar bears.\",\n",
    "    },\n",
    ")\n",
    "print(\"Listening Test Response:\", response.json())\n"
   ]
  },
  {
   "cell_type": "code",
   "execution_count": null,
   "metadata": {},
   "outputs": [],
   "source": []
  }
 ],
 "metadata": {
  "kernelspec": {
   "display_name": "torchdl",
   "language": "python",
   "name": "python3"
  },
  "language_info": {
   "codemirror_mode": {
    "name": "ipython",
    "version": 3
   },
   "file_extension": ".py",
   "mimetype": "text/x-python",
   "name": "python",
   "nbconvert_exporter": "python",
   "pygments_lexer": "ipython3",
   "version": "3.10.14"
  }
 },
 "nbformat": 4,
 "nbformat_minor": 2
}
